{
 "cells": [
  {
   "cell_type": "markdown",
   "metadata": {},
   "source": [
    "# Tree\n",
    "\n",
    "Because of the hirechical nature of the area API we'll define a tree like structure to make it easier to navigatae."
   ]
  },
  {
   "cell_type": "code",
   "execution_count": 1,
   "metadata": {},
   "outputs": [],
   "source": [
    "import Base: parent"
   ]
  },
  {
   "cell_type": "code",
   "execution_count": 2,
   "metadata": {},
   "outputs": [],
   "source": [
    "using Requests, Cascadia,Gumbo, AbstractTrees,ProgressMeter,StatsBase"
   ]
  },
  {
   "cell_type": "code",
   "execution_count": 3,
   "metadata": {},
   "outputs": [],
   "source": [
    "using AbstractTrees\n",
    "import AbstractTrees: children, printnode\n",
    "import Base: start, done, next"
   ]
  },
  {
   "cell_type": "code",
   "execution_count": 4,
   "metadata": {},
   "outputs": [],
   "source": [
    "#Used to contain areas, these can be districts, sub-disricts\n",
    "immutable Area \n",
    "    name::String\n",
    "    code::String\n",
    "    level::Int\n",
    "    subarea::Vector\n",
    "end"
   ]
  },
  {
   "cell_type": "code",
   "execution_count": 5,
   "metadata": {},
   "outputs": [],
   "source": [
    "#used to contain a location, specifically bus stops\n",
    "immutable Location\n",
    "    name::String\n",
    "    lat::Float64\n",
    "    lon::Float64\n",
    "end"
   ]
  },
  {
   "cell_type": "code",
   "execution_count": 6,
   "metadata": {},
   "outputs": [
    {
     "data": {
      "text/plain": [
       "printnode (generic function with 5 methods)"
      ]
     },
     "execution_count": 6,
     "metadata": {},
     "output_type": "execute_result"
    }
   ],
   "source": [
    "start(area::Area) = start(area.subarea)\n",
    "\n",
    "function next(area::Area,i)\n",
    "    (v,i) = next(area.subarea,i)\n",
    "end\n",
    "\n",
    "done(area::Area,i) = done(area.subarea,i)\n",
    "\n",
    "children(area::Area) = area.subarea\n",
    "\n",
    "printnode(io::IO, area::Area) = Base.print_with_color(:blue, io, area.name)\n",
    "printnode(io::IO, location::Location) = Base.print_with_color(:green, io, location.name)\n",
    "# printnode(io::IO, f::File) = print(io, basename(f.path))"
   ]
  },
  {
   "cell_type": "code",
   "execution_count": 7,
   "metadata": {},
   "outputs": [
    {
     "data": {
      "text/plain": [
       "find_area (generic function with 1 method)"
      ]
     },
     "execution_count": 7,
     "metadata": {},
     "output_type": "execute_result"
    }
   ],
   "source": [
    "#Helper function to search area tree\n",
    "function find_area(areas,re)\n",
    "    \n",
    "    \"\"\"\n",
    "    Can be used to search and area tree with a regualr expression\n",
    "    returns the first match\n",
    "    \"\"\"\n",
    "    \n",
    "    for area in PostOrderDFS(areas)\n",
    "        if typeof(area) == Area\n",
    "            if ismatch(re,area.name)\n",
    "                return area\n",
    "            end\n",
    "        end\n",
    "    end\n",
    "    print(\"Area Not Found\")\n",
    "end"
   ]
  },
  {
   "cell_type": "markdown",
   "metadata": {},
   "source": [
    "## HTML Helper Functions\n",
    "\n",
    "This section contains helper functions for traversing and searching  html."
   ]
  },
  {
   "cell_type": "code",
   "execution_count": 8,
   "metadata": {},
   "outputs": [
    {
     "data": {
      "text/plain": [
       "\"https://mobile.nwstbus.com.hk/nwp3/getlocation.php\""
      ]
     },
     "execution_count": 8,
     "metadata": {},
     "output_type": "execute_result"
    }
   ],
   "source": [
    "url = \"https://mobile.nwstbus.com.hk/nwp3/getlocation.php\""
   ]
  },
  {
   "cell_type": "code",
   "execution_count": 9,
   "metadata": {},
   "outputs": [
    {
     "data": {
      "text/plain": [
       "parent (generic function with 11 methods)"
      ]
     },
     "execution_count": 9,
     "metadata": {},
     "output_type": "execute_result"
    }
   ],
   "source": [
    "function parent(node::HTMLNode, n=1)\n",
    "    \n",
    "    \"\"\"\n",
    "    Returns the parent of a html node, optional takes argument n\n",
    "    which can be used to specify home many parents to go up\n",
    "    \n",
    "    \"\"\"\n",
    "    \n",
    "    parent = node\n",
    "    for i in 1:n\n",
    "        parent = parent.parent\n",
    "    end\n",
    "    return parent\n",
    "end\n",
    "        "
   ]
  },
  {
   "cell_type": "code",
   "execution_count": 10,
   "metadata": {},
   "outputs": [
    {
     "data": {
      "text/plain": [
       "innertext (generic function with 1 method)"
      ]
     },
     "execution_count": 10,
     "metadata": {},
     "output_type": "execute_result"
    }
   ],
   "source": [
    "function innertext(node)\n",
    "    \n",
    "    \"\"\"\n",
    "    Extract inner text from node.\n",
    "    \"\"\"\n",
    "    \n",
    "    s = \"\"\n",
    "    for ele in Leaves(node)\n",
    "        if typeof(ele) == HTMLText\n",
    "            s *= text(ele)\n",
    "        elseif typeof(ele) ==  HTMLElement{:br}\n",
    "            s *= \"\\n\"\n",
    "        end\n",
    "    end\n",
    "    \n",
    "    return s\n",
    "end\n",
    "        \n",
    "        "
   ]
  },
  {
   "cell_type": "markdown",
   "metadata": {},
   "source": [
    "# ETA API\n",
    "\n",
    "The first set is to get all of the sublocations for the main areas, because of the hirechial nature of them it makes sense to use a tree to store this information."
   ]
  },
  {
   "cell_type": "code",
   "execution_count": 11,
   "metadata": {},
   "outputs": [
    {
     "data": {
      "text/plain": [
       "extract_lis (generic function with 1 method)"
      ]
     },
     "execution_count": 11,
     "metadata": {},
     "output_type": "execute_result"
    }
   ],
   "source": [
    "function extract_lis(html_node)\n",
    "    \n",
    "    \"\"\"\n",
    "    This function extracts the li elements that contain\n",
    "    the area/locational information.\n",
    "    \"\"\"\n",
    "    \n",
    "    lis = matchall(sel\"li\",html_node);\n",
    "    l = []\n",
    "    for li in lis\n",
    "        if haskey(li.attributes,\"onclick\")\n",
    "            push!(l,li.attributes[\"onclick\"])\n",
    "        end\n",
    "    end\n",
    "    return l\n",
    "end"
   ]
  },
  {
   "cell_type": "code",
   "execution_count": 12,
   "metadata": {},
   "outputs": [
    {
     "data": {
      "text/plain": [
       "parse_area_code (generic function with 1 method)"
      ]
     },
     "execution_count": 12,
     "metadata": {},
     "output_type": "execute_result"
    }
   ],
   "source": [
    "function parse_area_code(str)\n",
    "    \n",
    "    \"\"\"\n",
    "    Parses an area ai returning the name and code\n",
    "    \"\"\"\n",
    "    \n",
    "    group = match(r\"'([^']+)'\",str)[1]\n",
    "    key = split(group,\"|\")[1]\n",
    "    code = split(group,\"|\")[2]\n",
    "    return key => code\n",
    "end"
   ]
  },
  {
   "cell_type": "code",
   "execution_count": 13,
   "metadata": {},
   "outputs": [
    {
     "data": {
      "text/plain": [
       "add_areas! (generic function with 1 method)"
      ]
     },
     "execution_count": 13,
     "metadata": {},
     "output_type": "execute_result"
    }
   ],
   "source": [
    "function add_areas!(top_area,level)\n",
    "    \n",
    "    \"\"\"\n",
    "    Takes a tree and a level specification and adds all areas to tree\n",
    "    \"\"\"\n",
    "    \n",
    "    data = Dict(\n",
    "        \"l\"=> level,\n",
    "        \"t\"=>\"s\",\n",
    "        \"lang\"=>\"1\", \n",
    "    )\n",
    "    \n",
    "    for area in Leaves(top_area)\n",
    "        data[\"k\"] = area.code\n",
    "        res = post(url,data=data)\n",
    "        html = res |> String |> parsehtml\n",
    "        try\n",
    "            for (name,code) in parse_area_code.(extract_lis(html.root))\n",
    "                push!(area.subarea, Area(name,code,level,[]))\n",
    "            end\n",
    "        end\n",
    "    end\n",
    "    return top_area\n",
    "end"
   ]
  },
  {
   "cell_type": "code",
   "execution_count": 14,
   "metadata": {},
   "outputs": [
    {
     "data": {
      "text/plain": [
       "parse_location (generic function with 1 method)"
      ]
     },
     "execution_count": 14,
     "metadata": {},
     "output_type": "execute_result"
    }
   ],
   "source": [
    "function parse_location(str)\n",
    "    group = match(r\"'([^']+)'\",str)[1]\n",
    "    name = match(r\"[^|]+\",group).match\n",
    "    lat = split(group,\"|\")[end-2]\n",
    "    lon = split(group,\"|\")[end-1]\n",
    "    lat = parse(lat)\n",
    "    lon = parse(lon)\n",
    "    return Location(name,lat,lon)\n",
    "end"
   ]
  },
  {
   "cell_type": "code",
   "execution_count": 15,
   "metadata": {},
   "outputs": [
    {
     "data": {
      "text/plain": [
       "add_locations! (generic function with 1 method)"
      ]
     },
     "execution_count": 15,
     "metadata": {},
     "output_type": "execute_result"
    }
   ],
   "source": [
    "function add_locations!(area)\n",
    "    \n",
    "    data = Dict(\n",
    "        \"l\"=> 4,\n",
    "        \"t\"=>\"s\",\n",
    "        \"lang\"=>\"1\", \n",
    "    )\n",
    "    \n",
    "    if typeof(area) == Area\n",
    "        try\n",
    "            data[\"k\"] = area.code\n",
    "            res = post(url,data=data)\n",
    "            html = res |> String |> parsehtml\n",
    "            for li in extract_lis(html.root)\n",
    "                push!(area.subarea ,parse_location(li))\n",
    "            end\n",
    "        end\n",
    "    end\n",
    "end\n",
    "    \n",
    "    "
   ]
  },
  {
   "cell_type": "code",
   "execution_count": 16,
   "metadata": {},
   "outputs": [],
   "source": [
    "#Root Node \n",
    "ALL = Area(\"All\",\"ALL\",1,[])\n",
    "\n",
    "#Manually add first main areas\n",
    "areas = [\n",
    "    \"Kowllon\" => \"KL\",\n",
    "    \"Hong Kong\" => \"HK\",\n",
    "    \"New Territories\" => \"NT\",\n",
    "]\n",
    "\n",
    "for (name,area_code) in areas\n",
    "    push!(ALL.subarea, Area(name,area_code,2,[]))\n",
    "end\n",
    "\n",
    "#Add ditrict and sub-districs\n",
    "ALL = add_areas!(ALL,2); #district\n",
    "ALL = add_areas!(ALL,3); # sub-distric\n",
    "\n",
    "#Add locations\n",
    "for area in Leaves(ALL)\n",
    "    add_locations!(area)\n",
    "end"
   ]
  },
  {
   "cell_type": "code",
   "execution_count": 20,
   "metadata": {},
   "outputs": [],
   "source": [
    "#Blue represents an area, and green represnets a location\n",
    "# print_tree(ALL)"
   ]
  },
  {
   "cell_type": "code",
   "execution_count": 220,
   "metadata": {},
   "outputs": [
    {
     "name": "stdout",
     "output_type": "stream",
     "text": [
      "\u001b[34mHung Hom\u001b[39m\n",
      "├─ \u001b[32mArea:Hung Hom\u001b[39m\n",
      "├─ \u001b[32mFortune Metropolis\u001b[39m\n",
      "├─ \u001b[32mHarbourview Horizons\u001b[39m\n",
      "├─ \u001b[32mHK Polytechnic University Student Halls of Residence (Hung Hom)\u001b[39m\n",
      "├─ \u001b[32mHung Hom Bay Centre\u001b[39m\n",
      "├─ \u001b[32mHung Hom Complex (Public Library)\u001b[39m\n",
      "├─ \u001b[32mHung Hom Government Primary School\u001b[39m\n",
      "├─ \u001b[32mHung Hom Station\u001b[39m\n",
      "├─ \u001b[32mHunghom Commercial Centre / Hunghom Square\u001b[39m\n",
      "├─ \u001b[32mKa Wai Chuen\u001b[39m\n",
      "├─ \u001b[32mRoyal Peninsula\u001b[39m\n",
      "├─ \u001b[32mSKH Holy Carpenter Secondary School\u001b[39m\n",
      "├─ \u001b[32mValley Road / Ho Man Tin Station Exit B1\u001b[39m\n",
      "└─ \u001b[32mVicinity of Gillies Avenue South, Wuhu Street & Baker Street\u001b[39m\n"
     ]
    }
   ],
   "source": [
    "#Can search tree for areas using a regular expression\n",
    "hung_hom = find_area(ALL,r\"Hung Hom\");\n",
    "print_tree(hung_hom)"
   ]
  },
  {
   "cell_type": "markdown",
   "metadata": {},
   "source": [
    "## ETA API\n",
    "\n",
    "Now that we have all of the locations we can use them to query the ETA API, we'll define two functions, one to fetch the html and another to parse it."
   ]
  },
  {
   "cell_type": "code",
   "execution_count": 64,
   "metadata": {},
   "outputs": [
    {
     "data": {
      "text/plain": [
       "fetch_route_details (generic function with 2 methods)"
      ]
     },
     "execution_count": 64,
     "metadata": {},
     "output_type": "execute_result"
    }
   ],
   "source": [
    "function fetch_route_details(start::Location,finish::Location, time= now() + Dates.Minute(5))\n",
    "    \n",
    "    data = Dict(\n",
    "        \"slat\"=> start.lat,\n",
    "        \"slon\"=> start.lon,\n",
    "        \"elat\"=>finish.lat,\n",
    "        \"elon\"=>finish.lon,\n",
    "        \"loc\" =>\"$(start.name), $(finish.name)\",\n",
    "        \"leg\"=>2,\n",
    "        \"ws\"=>1.3,\n",
    "        \"t\"=> Dates.format(time, \"yyyy-mm-dd HH:MM\"),\n",
    "        \"l\"=>1,\n",
    "        \"m1\"=>\"T\"\n",
    "    )\n",
    "    \n",
    "    route_url = \"https://mobile.nwstbus.com.hk/nwp3/ppsearch_p3.php?\" \n",
    "    res = post(route_url,data=data)\n",
    "end"
   ]
  },
  {
   "cell_type": "code",
   "execution_count": 65,
   "metadata": {},
   "outputs": [
    {
     "data": {
      "text/plain": [
       "parse_route_details (generic function with 1 method)"
      ]
     },
     "execution_count": 65,
     "metadata": {},
     "output_type": "execute_result"
    }
   ],
   "source": [
    "function parse_route_details(html_doc::HTMLDocument)\n",
    "\n",
    "    \"\"\"\n",
    "    Will parse html returning, all routes between two stops, price and estimated\n",
    "    time. If the returned array is empty it means that two bus stops are within\n",
    "    walking distance.\n",
    "    \"\"\"\n",
    "    html = html_doc.root\n",
    "    tables = matchall(sel\"#routelist2 > table\",html)\n",
    "    routes = []\n",
    "    for table in tables\n",
    "        \n",
    "        buses = innertext.(matchall(sel\".routenocell\",table))\n",
    "        n = length(buses) - 1\n",
    "        prices = innertext.(matchall(sel\"td:matches(\\$\\d)\",table)[end-n:end])\n",
    "        time = innertext(matchall(sel\"td:matches(Estimated.*)\",table))\n",
    "    \n",
    "        d = Dict(\n",
    "            \"buses\" => buses,\n",
    "            \"prices\"=> prices,\n",
    "            \"est_time\"=> time\n",
    "        )\n",
    "        \n",
    "        push!(routes,d)\n",
    "    end\n",
    "    return routes\n",
    "end\n",
    "    \n",
    "    "
   ]
  },
  {
   "cell_type": "code",
   "execution_count": 41,
   "metadata": {},
   "outputs": [
    {
     "name": "stdout",
     "output_type": "stream",
     "text": [
      "There are 2593 bus stops."
     ]
    }
   ],
   "source": [
    "#Get all bus stops in hk\n",
    "bus_stops = collect(Leaves(ALL));\n",
    "print(\"There are $(length(bus_stops)) bus stops.\")"
   ]
  },
  {
   "cell_type": "code",
   "execution_count": 42,
   "metadata": {},
   "outputs": [
    {
     "name": "stdout",
     "output_type": "stream",
     "text": [
      "Location(\"Bank of China Centre\", 22.3177386046, 114.158879069)\n",
      "Location(\"Lake Silver\", 22.428524343561, 114.24404361247)\n"
     ]
    }
   ],
   "source": [
    "#Pick Two bus stops at random\n",
    "rand_stop_a = sample(bus_stops)\n",
    "rand_stop_b = sample(bus_stops)\n",
    "println(rand_stop_a)\n",
    "println(rand_stop_b)"
   ]
  },
  {
   "cell_type": "code",
   "execution_count": 43,
   "metadata": {},
   "outputs": [
    {
     "data": {
      "text/plain": [
       "1-element Array{Any,1}:\n",
       " Dict{String,Any}(Pair{String,Any}(\"prices\", String[\"\\$9.3\", \"\\$25.6\"]),Pair{String,Any}(\"buses\", String[\"905\", \"N680\"]),Pair{String,Any}(\"est_time\", \"Estimated\\n114 Min\"))"
      ]
     },
     "execution_count": 43,
     "metadata": {},
     "output_type": "execute_result"
    }
   ],
   "source": [
    "#Fetch best Routes\n",
    "res = fetch_route_details(rand_stop_a,rand_stop_b)\n",
    "html = res |> String |> parsehtml;\n",
    "best_routes = parse_route_details(html)"
   ]
  },
  {
   "cell_type": "code",
   "execution_count": 33,
   "metadata": {},
   "outputs": [],
   "source": [
    "#Alterantively we could look at bus stops for an area\n",
    "hung_hom = find_area(ALL,r\"Hung Hom\");\n",
    "kowloon_city = find_area(ALL,r\"Kowloon City\");"
   ]
  },
  {
   "cell_type": "code",
   "execution_count": 80,
   "metadata": {},
   "outputs": [
    {
     "name": "stdout",
     "output_type": "stream",
     "text": [
      "\u001b[34mHung Hom\u001b[39m\n",
      "├─ \u001b[32mArea:Hung Hom\u001b[39m\n",
      "├─ \u001b[32mFortune Metropolis\u001b[39m\n",
      "├─ \u001b[32mHarbourview Horizons\u001b[39m\n",
      "├─ \u001b[32mHK Polytechnic University Student Halls of Residence (Hung Hom)\u001b[39m\n",
      "├─ \u001b[32mHung Hom Bay Centre\u001b[39m\n",
      "├─ \u001b[32mHung Hom Complex (Public Library)\u001b[39m\n",
      "├─ \u001b[32mHung Hom Government Primary School\u001b[39m\n",
      "├─ \u001b[32mHung Hom Station\u001b[39m\n",
      "├─ \u001b[32mHunghom Commercial Centre / Hunghom Square\u001b[39m\n",
      "├─ \u001b[32mKa Wai Chuen\u001b[39m\n",
      "├─ \u001b[32mRoyal Peninsula\u001b[39m\n",
      "├─ \u001b[32mSKH Holy Carpenter Secondary School\u001b[39m\n",
      "├─ \u001b[32mValley Road / Ho Man Tin Station Exit B1\u001b[39m\n",
      "└─ \u001b[32mVicinity of Gillies Avenue South, Wuhu Street & Baker Street\u001b[39m\n"
     ]
    }
   ],
   "source": [
    "print_tree(hung_hom)"
   ]
  },
  {
   "cell_type": "code",
   "execution_count": 81,
   "metadata": {},
   "outputs": [
    {
     "name": "stdout",
     "output_type": "stream",
     "text": [
      "\u001b[34mKowloon City\u001b[39m\n",
      "├─ \u001b[32mArea:Kowloon City\u001b[39m\n",
      "├─ \u001b[32mArgyle Street (near Olympic Garden)\u001b[39m\n",
      "├─ \u001b[32mArgyle Street Playground\u001b[39m\n",
      "├─ \u001b[32mChun Seen Mei Chuen\u001b[39m\n",
      "├─ \u001b[32mKowloon City Municipal Services Building (Sports Centre / Public Library)\u001b[39m\n",
      "├─ \u001b[32mKowloon City Plaza\u001b[39m\n",
      "├─ \u001b[32mKowloon City Post Office\u001b[39m\n",
      "├─ \u001b[32mKowloon Walled City Park / Carpenter Road Park\u001b[39m\n",
      "├─ \u001b[32mNga Tsin Wai Road (near Prince Edward Road East)\u001b[39m\n",
      "├─ \u001b[32mOlympic Garden\u001b[39m\n",
      "├─ \u001b[32mPrince Edward Road West (near Olympic Garden)\u001b[39m\n",
      "├─ \u001b[32mRegal Oriental Hotel\u001b[39m\n",
      "├─ \u001b[32mSung Wong Toi Garden\u001b[39m\n",
      "└─ \u001b[32mVicinity of Sa Po Road, Tak Ku Ling Road & Nga Tsin Long Road\u001b[39m\n"
     ]
    }
   ],
   "source": [
    "print_tree(kowloon_city)"
   ]
  },
  {
   "cell_type": "code",
   "execution_count": 83,
   "metadata": {},
   "outputs": [
    {
     "name": "stdout",
     "output_type": "stream",
     "text": [
      "Location(\"Fortune Metropolis\", 22.303672369191, 114.18345667531)\n",
      "Location(\"Kowloon City Municipal Services Building (Sports Centre / Public Library)\", 22.3294357446, 114.1890004604)\n"
     ]
    }
   ],
   "source": [
    "#Lets pick two bus stops\n",
    "a = hung_hom.subarea[2]\n",
    "b = kowloon_city.subarea[5]\n",
    "println(a)\n",
    "println(b)"
   ]
  },
  {
   "cell_type": "code",
   "execution_count": 84,
   "metadata": {},
   "outputs": [
    {
     "data": {
      "text/plain": [
       "7-element Array{Any,1}:\n",
       " Dict{String,Any}(Pair{String,Any}(\"prices\", String[\"\\$5.7\"]),Pair{String,Any}(\"buses\", String[\"111\"]),Pair{String,Any}(\"est_time\", \"Estimated\\n25 Min\")) \n",
       " Dict{String,Any}(Pair{String,Any}(\"prices\", String[\"\\$5.7\"]),Pair{String,Any}(\"buses\", String[\"107\"]),Pair{String,Any}(\"est_time\", \"Estimated\\n27 Min\")) \n",
       " Dict{String,Any}(Pair{String,Any}(\"prices\", String[\"\\$5.7\"]),Pair{String,Any}(\"buses\", String[\"101\"]),Pair{String,Any}(\"est_time\", \"Estimated\\n28 Min\")) \n",
       " Dict{String,Any}(Pair{String,Any}(\"prices\", String[\"\\$7.5\"]),Pair{String,Any}(\"buses\", String[\"796X\"]),Pair{String,Any}(\"est_time\", \"Estimated\\n28 Min\"))\n",
       " Dict{String,Any}(Pair{String,Any}(\"prices\", String[\"\\$5.7\"]),Pair{String,Any}(\"buses\", String[\"116\"]),Pair{String,Any}(\"est_time\", \"Estimated\\n30 Min\")) \n",
       " Dict{String,Any}(Pair{String,Any}(\"prices\", String[\"\\$5.7\"]),Pair{String,Any}(\"buses\", String[\"113\"]),Pair{String,Any}(\"est_time\", \"Estimated\\n33 Min\")) \n",
       " Dict{String,Any}(Pair{String,Any}(\"prices\", String[\"\\$5.7\"]),Pair{String,Any}(\"buses\", String[\"106\"]),Pair{String,Any}(\"est_time\", \"Estimated\\n39 Min\")) "
      ]
     },
     "execution_count": 84,
     "metadata": {},
     "output_type": "execute_result"
    }
   ],
   "source": [
    "res = fetch_route_details(a,b)\n",
    "html = res |> String |> parsehtml;\n",
    "parse_route_details(html)"
   ]
  },
  {
   "cell_type": "markdown",
   "metadata": {},
   "source": [
    "# Bus Routes\n",
    "\n",
    "It's usefull to know all of the buses and there routes."
   ]
  },
  {
   "cell_type": "code",
   "execution_count": 122,
   "metadata": {},
   "outputs": [
    {
     "data": {
      "text/plain": [
       "fetch_bus_numbers (generic function with 1 method)"
      ]
     },
     "execution_count": 122,
     "metadata": {},
     "output_type": "execute_result"
    }
   ],
   "source": [
    "function fetch_bus_numbers()\n",
    "\n",
    "    d = Dict(\n",
    "        \"rtype\"=>\"X\",\n",
    "        \"skey\"=>\"Input Route No.\",\n",
    "        \"l\"=>1,\n",
    "        \"sysid\"=>52\n",
    "    )\n",
    "\n",
    "\n",
    "\n",
    "    routesearch_url = \"https://mobile.nwstbus.com.hk/nwp3/routesearch.php?\"\n",
    "    post(routesearch_url,data=d)\n",
    "end"
   ]
  },
  {
   "cell_type": "code",
   "execution_count": 128,
   "metadata": {},
   "outputs": [
    {
     "data": {
      "text/plain": [
       "parse_bus_number (generic function with 1 method)"
      ]
     },
     "execution_count": 128,
     "metadata": {},
     "output_type": "execute_result"
    }
   ],
   "source": [
    "function parse_bus_number(node::HTMLElement)\n",
    "    \n",
    "    n =  parent(node,2)\n",
    "    res = innertext.(matchall(sel\"tbody > tr\",n)[2:end])\n",
    "    Dict(\n",
    "        \"bus_no\"=>res[1],\n",
    "        \"to\"=>res[2],\n",
    "        \"details\"=>res[3],\n",
    "    )\n",
    "    \n",
    "end\n",
    "    \n",
    "    \n",
    "    "
   ]
  },
  {
   "cell_type": "code",
   "execution_count": 129,
   "metadata": {},
   "outputs": [],
   "source": [
    "res = fetch_bus_numbers()\n",
    "html = res |> String |> parsehtml;"
   ]
  },
  {
   "cell_type": "code",
   "execution_count": 130,
   "metadata": {},
   "outputs": [],
   "source": [
    "bus_numbers = matchall(sel\".routenocell\",html.root);"
   ]
  },
  {
   "cell_type": "code",
   "execution_count": 127,
   "metadata": {},
   "outputs": [
    {
     "data": {
      "text/plain": [
       "532-element Array{Dict{String,String},1}:\n",
       " Dict(\"bus_no\"=>\"1\",\"to\"=>\"To: Felix Villas\",\"times\"=>\"Citybus\")                                                                   \n",
       " Dict(\"bus_no\"=>\"1\",\"to\"=>\"To: Happy Valley (Upper)\",\"times\"=>\"Citybus\")                                                           \n",
       " Dict(\"bus_no\"=>\"1P\",\"to\"=>\"To: Central\",\"times\"=>\"Citybus, Monday to Friday only\")                                                \n",
       " Dict(\"bus_no\"=>\"1P\",\"to\"=>\"To: Happy Valley (Upper)\",\"times\"=>\"Citybus, Monday to Friday only\")                                   \n",
       " Dict(\"bus_no\"=>\"2\",\"to\"=>\"To: Grand Promenade\",\"times\"=>\"NWFB\")                                                                   \n",
       " Dict(\"bus_no\"=>\"2\",\"to\"=>\"To: Central (Macau Ferry)\",\"times\"=>\"NWFB\")                                                             \n",
       " Dict(\"bus_no\"=>\"2A\",\"to\"=>\"To: Wan Chai North\",\"times\"=>\"NWFB\")                                                                   \n",
       " Dict(\"bus_no\"=>\"2A\",\"to\"=>\"To: Yiu Tung Estate\",\"times\"=>\"NWFB\")                                                                  \n",
       " Dict(\"bus_no\"=>\"2R\",\"to\"=>\"To: Yiu Tung Estate\",\"times\"=>\"NWFB, Service on specified day\")                                        \n",
       " Dict(\"bus_no\"=>\"2X\",\"to\"=>\"To: Wan Chai North\",\"times\"=>\"NWFB, Express\")                                                          \n",
       " Dict(\"bus_no\"=>\"2X\",\"to\"=>\"To: Shau Kei Wan / Aldrich Bay\",\"times\"=>\"NWFB, Express\")                                              \n",
       " Dict(\"bus_no\"=>\"3A\",\"to\"=>\"To: Felix Villas\",\"times\"=>\"NWFB, Peak only, Monday to Friday only\")                                   \n",
       " Dict(\"bus_no\"=>\"3A\",\"to\"=>\"To: Central (Star Ferry)\",\"times\"=>\"NWFB, Peak only, Monday to Friday only\")                           \n",
       " ⋮                                                                                                                                 \n",
       " Dict(\"bus_no\"=>\"NA29\",\"to\"=>\"To: Tseung Kwan O (Po Lam)\",\"times\"=>\"Cityflyer, Overnight\")                                         \n",
       " Dict(\"bus_no\"=>\"R8\",\"to\"=>\"Disneyland\",\"times\"=>\"\")                                                                               \n",
       " Dict(\"bus_no\"=>\"R11\",\"to\"=>\"To: North Point Ferry Pier\",\"times\"=>\"Citybus, Service on specified day, Disneyland\")                 \n",
       " Dict(\"bus_no\"=>\"R22\",\"to\"=>\"To: Yau Tong\",\"times\"=>\"Citybus, Service on specified day, Disneyland\")                               \n",
       " Dict(\"bus_no\"=>\"S1\",\"to\"=>\"Tung Chung Station\",\"times\"=>\"\")                                                                       \n",
       " Dict(\"bus_no\"=>\"S52\",\"to\"=>\"To: Aircraft Maintenance Area\",\"times\"=>\"Citybus\")                                                    \n",
       " Dict(\"bus_no\"=>\"S52\",\"to\"=>\"To: Tung Chung (Yat Tung Estate)\",\"times\"=>\"Citybus\")                                                 \n",
       " Dict(\"bus_no\"=>\"S52P\",\"to\"=>\"Tung Chung (Yat Tung Estate)\",\"times\"=>\"\")                                                           \n",
       " Dict(\"bus_no\"=>\"S56\",\"to\"=>\"Tung Chung Station\",\"times\"=>\"\")                                                                      \n",
       " Dict(\"bus_no\"=>\"X1\",\"to\"=>\"To: AsiaWorld-Expo\",\"times\"=>\"Citybus, Express, Service on specified day\")                             \n",
       " Dict(\"bus_no\"=>\"X1\",\"to\"=>\"To: Tung Chung Station\",\"times\"=>\"Citybus, Express, Service on specified day\")                         \n",
       " Dict(\"bus_no\"=>\"X962\",\"to\"=>\"To: Tuen Mun (Lung Mun Oasis)\",\"times\"=>\"Citybus, Express, Evening Peak only, Monday to Friday only\")"
      ]
     },
     "execution_count": 127,
     "metadata": {},
     "output_type": "execute_result"
    }
   ],
   "source": [
    "#Bus info, contains forward and backward routes\n",
    "bus_nos = parse_bus_number.(bus_number)"
   ]
  },
  {
   "cell_type": "code",
   "execution_count": 131,
   "metadata": {},
   "outputs": [
    {
     "data": {
      "text/plain": [
       "317-element Array{String,1}:\n",
       " \"1\"   \n",
       " \"1P\"  \n",
       " \"2\"   \n",
       " \"2A\"  \n",
       " \"2R\"  \n",
       " \"2X\"  \n",
       " \"3A\"  \n",
       " \"4\"   \n",
       " \"4X\"  \n",
       " \"5B\"  \n",
       " \"5X\"  \n",
       " \"6\"   \n",
       " \"6A\"  \n",
       " ⋮     \n",
       " \"NA12\"\n",
       " \"NA21\"\n",
       " \"NA29\"\n",
       " \"R8\"  \n",
       " \"R11\" \n",
       " \"R22\" \n",
       " \"S1\"  \n",
       " \"S52\" \n",
       " \"S52P\"\n",
       " \"S56\" \n",
       " \"X1\"  \n",
       " \"X962\""
      ]
     },
     "execution_count": 131,
     "metadata": {},
     "output_type": "execute_result"
    }
   ],
   "source": [
    "#Unique buses ,its exxactly half len of above since some drive ciruclar routes\n",
    "unique([ bus[\"bus_no\"] for bus in bus_nos])"
   ]
  }
 ],
 "metadata": {
  "kernelspec": {
   "display_name": "Julia 0.6.2",
   "language": "julia",
   "name": "julia-0.6"
  },
  "language_info": {
   "file_extension": ".jl",
   "mimetype": "application/julia",
   "name": "julia",
   "version": "0.6.2"
  }
 },
 "nbformat": 4,
 "nbformat_minor": 2
}
